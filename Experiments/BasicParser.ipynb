{
 "cells": [
  {
   "cell_type": "markdown",
   "metadata": {},
   "source": [
    "### JMDICT Lookup"
   ]
  },
  {
   "cell_type": "code",
   "execution_count": 1,
   "metadata": {},
   "outputs": [],
   "source": [
    "JMDICT = '../ChiitransLite/data/JMdict.xml'\n",
    "JMneDICT = '../ChiitransLite/data/JMnedict.xml'"
   ]
  },
  {
   "cell_type": "code",
   "execution_count": 2,
   "metadata": {},
   "outputs": [],
   "source": [
    "import lxml.etree as ET\n",
    "\n",
    "tree = ET.parse(JMDICT)\n",
    "root = tree.getroot()"
   ]
  },
  {
   "cell_type": "code",
   "execution_count": 4,
   "metadata": {},
   "outputs": [
    {
     "data": {
      "text/plain": [
       "[<Element entry at 0x1441d10dc40>]"
      ]
     },
     "execution_count": 4,
     "metadata": {},
     "output_type": "execute_result"
    }
   ],
   "source": [
    "search_text = '呟き'\n",
    "xpath = f\".//entry[k_ele/keb[text()='{search_text}']]\"\n",
    "matching_entries = root.xpath(xpath)\n",
    "matching_entries"
   ]
  },
  {
   "cell_type": "code",
   "execution_count": 16,
   "metadata": {},
   "outputs": [
    {
     "data": {
      "text/plain": [
       "(['surgery', 'surgical procedure'],\n",
       " ['げかしゅじゅつ'],\n",
       " ['noun (common) (futsuumeishi)'])"
      ]
     },
     "execution_count": 16,
     "metadata": {},
     "output_type": "execute_result"
    }
   ],
   "source": [
    "e = matching_entries[0]\n",
    "gloss = [g.text for g in e.iter('gloss')]\n",
    "reb = [r.text for r in e.iter('reb')]\n",
    "pos = [p.text for p in e.iter('pos')]\n",
    "gloss, reb, pos"
   ]
  },
  {
   "cell_type": "code",
   "execution_count": 34,
   "metadata": {},
   "outputs": [],
   "source": [
    "class Entry:\n",
    "    def __init__(self, ent):\n",
    "        self.gloss = [g.text for g in ent.iter('gloss')]\n",
    "        self.pos = [p.text for p in ent.iter('pos')]\n",
    "        self.furigana = [r.text for r in ent.iter('reb')]\n",
    "    \n",
    "    def print_info(self):\n",
    "        for item in self.furigana:\n",
    "            print(item, end='')\n",
    "        print()\n",
    "        for item in self.gloss:\n",
    "            print(item, end='; ')\n",
    "        print()\n",
    "        for item in self.pos:\n",
    "            print(item, end='')"
   ]
  },
  {
   "cell_type": "code",
   "execution_count": 35,
   "metadata": {},
   "outputs": [
    {
     "name": "stdout",
     "output_type": "stream",
     "text": [
      "げかしゅじゅつ\n",
      "surgery; surgical procedure; \n",
      "noun (common) (futsuumeishi)"
     ]
    }
   ],
   "source": [
    "ent = Entry(e)\n",
    "ent.print_info()"
   ]
  },
  {
   "cell_type": "code",
   "execution_count": 36,
   "metadata": {},
   "outputs": [],
   "source": [
    "import lxml.etree as ET\n",
    "class EntryFinder:\n",
    "    def __init__(self, JMDICT_PATH):\n",
    "        self.__tree = ET.parse(JMDICT_PATH)\n",
    "        self.root = self.__tree.getroot()\n",
    "    \n",
    "    def find_entry(self, text):\n",
    "        xpath = f\".//entry[k_ele/keb[text()='{search_text}']]\"\n",
    "        matching_entries = root.xpath(xpath)\n",
    "        entries = [Entry(e) for e in matching_entries]\n",
    "        return entries\n",
    "    \n",
    "        "
   ]
  },
  {
   "cell_type": "markdown",
   "metadata": {},
   "source": [
    "### Morpheme Segmentation"
   ]
  },
  {
   "cell_type": "code",
   "execution_count": 39,
   "metadata": {},
   "outputs": [
    {
     "name": "stdout",
     "output_type": "stream",
     "text": [
      "Collecting janome\n",
      "  Downloading Janome-0.5.0-py2.py3-none-any.whl.metadata (2.6 kB)\n",
      "Downloading Janome-0.5.0-py2.py3-none-any.whl (19.7 MB)\n",
      "   ---------------------------------------- 0.0/19.7 MB ? eta -:--:--\n",
      "   ----------- ---------------------------- 5.8/19.7 MB 32.0 MB/s eta 0:00:01\n",
      "   -------------------------- ------------- 12.8/19.7 MB 33.6 MB/s eta 0:00:01\n",
      "   ---------------------------------------- 19.7/19.7 MB 34.4 MB/s eta 0:00:00\n",
      "Installing collected packages: janome\n",
      "Successfully installed janome-0.5.0\n",
      "Note: you may need to restart the kernel to use updated packages.\n"
     ]
    }
   ],
   "source": [
    "%pip install janome"
   ]
  },
  {
   "cell_type": "code",
   "execution_count": 41,
   "metadata": {},
   "outputs": [
    {
     "name": "stdout",
     "output_type": "stream",
     "text": [
      "Surface: 救命, Lemma: 救命\n",
      "Surface: 救急, Lemma: 救急\n",
      "Surface: センター, Lemma: センター\n",
      "Surface: に, Lemma: に\n",
      "Surface: 到着, Lemma: 到着\n",
      "Surface: する, Lemma: する\n",
      "Surface: と, Lemma: と\n",
      "Surface: 、, Lemma: 、\n",
      "Surface: ただちに, Lemma: ただちに\n",
      "Surface: 緊急, Lemma: 緊急\n",
      "Surface: 手術, Lemma: 手術\n",
      "Surface: が, Lemma: が\n",
      "Surface: 行わ, Lemma: 行う\n",
      "Surface: れる, Lemma: れる\n",
      "Surface: こと, Lemma: こと\n",
      "Surface: に, Lemma: に\n",
      "Surface: なっ, Lemma: なる\n",
      "Surface: た, Lemma: た\n",
      "Surface: 。, Lemma: 。\n"
     ]
    }
   ],
   "source": [
    "from janome.tokenizer import Tokenizer\n",
    "\n",
    "tokenizer = Tokenizer()\n",
    "text = \"救命救急センターに到着すると、ただちに緊急手術が行われることになった。\"\n",
    "for token in tokenizer.tokenize(text):\n",
    "    print(f\"Surface: {token.surface}, Lemma: {token.base_form}\")"
   ]
  },
  {
   "cell_type": "code",
   "execution_count": null,
   "metadata": {},
   "outputs": [],
   "source": []
  }
 ],
 "metadata": {
  "kernelspec": {
   "display_name": "Python 3",
   "language": "python",
   "name": "python3"
  },
  "language_info": {
   "codemirror_mode": {
    "name": "ipython",
    "version": 3
   },
   "file_extension": ".py",
   "mimetype": "text/x-python",
   "name": "python",
   "nbconvert_exporter": "python",
   "pygments_lexer": "ipython3",
   "version": "3.12.6"
  }
 },
 "nbformat": 4,
 "nbformat_minor": 2
}
